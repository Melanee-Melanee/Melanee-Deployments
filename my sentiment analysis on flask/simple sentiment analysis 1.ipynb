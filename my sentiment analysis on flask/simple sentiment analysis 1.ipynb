{
 "cells": [
  {
   "cell_type": "code",
   "execution_count": null,
   "id": "34d0eada",
   "metadata": {},
   "outputs": [],
   "source": [
    "!pip install textblob\n"
   ]
  },
  {
   "cell_type": "code",
   "execution_count": 5,
   "id": "880bda21",
   "metadata": {},
   "outputs": [],
   "source": [
    "from textblob import TextBlob\n"
   ]
  },
  {
   "cell_type": "code",
   "execution_count": 13,
   "id": "7998f56c",
   "metadata": {},
   "outputs": [],
   "source": [
    "def predict(text):\n",
    "  \n",
    "    analysis = TextBlob(text)\n",
    "    polarity = analysis.sentiment.polarity\n",
    "    subjectivity = analysis.sentiment.subjectivity\n",
    "\n",
    "    if polarity > 0:\n",
    "        sentiment = \"Positive\"\n",
    "    elif polarity < 0:\n",
    "        sentiment = \"Negative\"\n",
    "    else:\n",
    "        sentiment = \"Neutral\"\n",
    "\n",
    "    print(f\"Text: {text}\")\n",
    "    print(f\"Sentiment: {sentiment}\")\n",
    "    print(f\"Polarity: {polarity}\")\n",
    "    print(f\"Subjectivity: {subjectivity}\")\n",
    "    print(\"------\")\n",
    "\n"
   ]
  },
  {
   "cell_type": "code",
   "execution_count": 14,
   "id": "6fd2a651",
   "metadata": {},
   "outputs": [
    {
     "name": "stdout",
     "output_type": "stream",
     "text": [
      "Text: I love you\n",
      "Sentiment: Positive\n",
      "Polarity: 0.5\n",
      "Subjectivity: 0.6\n",
      "------\n"
     ]
    }
   ],
   "source": [
    "predict('I love you')"
   ]
  },
  {
   "cell_type": "markdown",
   "id": "e40b9387",
   "metadata": {},
   "source": [
    "# to inpute a few sample texts"
   ]
  },
  {
   "cell_type": "code",
   "execution_count": 1,
   "id": "93160855",
   "metadata": {},
   "outputs": [],
   "source": [
    "from textblob import TextBlob\n"
   ]
  },
  {
   "cell_type": "code",
   "execution_count": 2,
   "id": "622cc0d1",
   "metadata": {},
   "outputs": [],
   "source": [
    "sample_texts = [\n",
    "    \"I love programming.\",\n",
    "    \"I hate bugs.\",\n",
    "    \"I feel indifferent about documentation.\",\n",
    "    \"Debugging is fun!\",\n",
    "    \"I hate you.\"\n",
    "]"
   ]
  },
  {
   "cell_type": "code",
   "execution_count": 3,
   "id": "92f289bf",
   "metadata": {},
   "outputs": [
    {
     "name": "stdout",
     "output_type": "stream",
     "text": [
      "Text: I love programming.\n",
      "Sentiment: Positive\n",
      "Polarity: 0.5\n",
      "Subjectivity: 0.6\n",
      "------\n",
      "Text: I hate bugs.\n",
      "Sentiment: Negative\n",
      "Polarity: -0.8\n",
      "Subjectivity: 0.9\n",
      "------\n",
      "Text: I feel indifferent about documentation.\n",
      "Sentiment: Neutral\n",
      "Polarity: 0.0\n",
      "Subjectivity: 0.0\n",
      "------\n",
      "Text: Debugging is fun!\n",
      "Sentiment: Positive\n",
      "Polarity: 0.375\n",
      "Subjectivity: 0.2\n",
      "------\n",
      "Text: I hate you.\n",
      "Sentiment: Negative\n",
      "Polarity: -0.8\n",
      "Subjectivity: 0.9\n",
      "------\n"
     ]
    }
   ],
   "source": [
    "for text in sample_texts:\n",
    "    analysis = TextBlob(text)\n",
    "    polarity = analysis.sentiment.polarity\n",
    "    subjectivity = analysis.sentiment.subjectivity\n",
    "    \n",
    "    if polarity > 0:\n",
    "        sentiment = \"Positive\"\n",
    "    elif polarity < 0:\n",
    "        sentiment = \"Negative\"\n",
    "    else:\n",
    "        sentiment = \"Neutral\"\n",
    "    \n",
    "    print(f\"Text: {text}\")\n",
    "    print(f\"Sentiment: {sentiment}\")\n",
    "    print(f\"Polarity: {polarity}\")\n",
    "    print(f\"Subjectivity: {subjectivity}\")\n",
    "    print(\"------\")"
   ]
  },
  {
   "cell_type": "code",
   "execution_count": null,
   "id": "f7e9cd17",
   "metadata": {},
   "outputs": [],
   "source": []
  }
 ],
 "metadata": {
  "kernelspec": {
   "display_name": "Python 3 (ipykernel)",
   "language": "python",
   "name": "python3"
  },
  "language_info": {
   "codemirror_mode": {
    "name": "ipython",
    "version": 3
   },
   "file_extension": ".py",
   "mimetype": "text/x-python",
   "name": "python",
   "nbconvert_exporter": "python",
   "pygments_lexer": "ipython3",
   "version": "3.10.12"
  },
  "toc": {
   "base_numbering": 1,
   "nav_menu": {},
   "number_sections": true,
   "sideBar": true,
   "skip_h1_title": false,
   "title_cell": "Table of Contents",
   "title_sidebar": "Contents",
   "toc_cell": false,
   "toc_position": {},
   "toc_section_display": true,
   "toc_window_display": false
  },
  "varInspector": {
   "cols": {
    "lenName": 16,
    "lenType": 16,
    "lenVar": 40
   },
   "kernels_config": {
    "python": {
     "delete_cmd_postfix": "",
     "delete_cmd_prefix": "del ",
     "library": "var_list.py",
     "varRefreshCmd": "print(var_dic_list())"
    },
    "r": {
     "delete_cmd_postfix": ") ",
     "delete_cmd_prefix": "rm(",
     "library": "var_list.r",
     "varRefreshCmd": "cat(var_dic_list()) "
    }
   },
   "types_to_exclude": [
    "module",
    "function",
    "builtin_function_or_method",
    "instance",
    "_Feature"
   ],
   "window_display": false
  }
 },
 "nbformat": 4,
 "nbformat_minor": 5
}
